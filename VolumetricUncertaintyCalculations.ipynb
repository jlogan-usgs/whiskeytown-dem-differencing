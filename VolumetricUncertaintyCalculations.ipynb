{
 "cells": [
  {
   "cell_type": "markdown",
   "id": "precious-rebate",
   "metadata": {},
   "source": [
    "### DEM Differencing Volumetric Uncertainty Calculations\n",
    "\n",
    "Following methods described in:  \n",
    "     Anderson SW. 2019. Uncertainty in quantitative analyses of topographic change: error propagation and the role of thresholding. \n",
    " Earth Surf. Process. Landforms 44(2019): 1015-1033. "
   ]
  },
  {
   "cell_type": "code",
   "execution_count": 1,
   "id": "collaborative-tribute",
   "metadata": {},
   "outputs": [],
   "source": [
    "import numpy as np"
   ]
  },
  {
   "cell_type": "markdown",
   "id": "toxic-british",
   "metadata": {},
   "source": [
    "***\n",
    "#### Uncorrelated random error\n",
    "***\n",
    "Using equation 12 for mean volumetric uncorrelated random error\n",
    "\n",
    "&emsp; $\\overline{\\sigma_{v,re}} = \\sqrt{n} {L}^2 \\sigma_{rms}$\n",
    "\n",
    "\n",
    "and equation 11 for total volumetric uncorrelated random error\n",
    "\n",
    "&emsp; $\\sigma_{v,re} = \\sqrt{n} {L}^2 \\sigma_{rms}$\n",
    "\n",
    "where:  \n",
    "&emsp; ${L} = $ DoD cell size  \n",
    "&emsp; ${n} = $ number of cells in analysis area of DoD  \n",
    "&emsp; $\\sigma_{rms} = $ Standard deviation of vertical residuals in stable areas of the adjusted (final) DoD"
   ]
  },
  {
   "cell_type": "code",
   "execution_count": 27,
   "id": "applicable-circulation",
   "metadata": {},
   "outputs": [
    {
     "name": "stdout",
     "output_type": "stream",
     "text": [
      "L (cell size) =                                    0.25\n",
      "n (number of cells) =                              682640\n",
      "sigma_rms (St.Dev. of residuals at 95% C.I.) =     0.22706117839999998\n",
      "\n",
      "Mean Uncorrelated Random Error =                   0.00027481916839974867\n",
      "Volumetric Uncorrelated Random Error =             11.725159819775277\n",
      "\n"
     ]
    }
   ],
   "source": [
    "#Uncorrelated random error\n",
    "L = 0.25\n",
    "n = 682640\n",
    "sigma_rms = 0.11584754\n",
    "confidence_level = 95 #95 or 68\n",
    "\n",
    "if confidence_level == 95:\n",
    "    sigma_rms = sigma_rms * 1.96\n",
    "\n",
    "mean_sigma_v_re = sigma_rms / np.sqrt(n)\n",
    "\n",
    "vol_sigma_v_re = np.sqrt(n) * np.square(L) * sigma_rms\n",
    "\n",
    "print(f'L (cell size) =                                    {L}\\n'\n",
    "      f'n (number of cells) =                              {n}\\n'\n",
    "      f'sigma_rms (St.Dev. of residuals at {confidence_level}% C.I.) =     {sigma_rms}\\n\\n'\n",
    "      f'Mean Uncorrelated Random Error =                   {mean_sigma_v_re}\\n'\n",
    "      f'Volumetric Uncorrelated Random Error =             {vol_sigma_v_re}\\n')"
   ]
  },
  {
   "cell_type": "markdown",
   "id": "raising-marshall",
   "metadata": {},
   "source": [
    "***\n",
    "#### Spatially correlated random error\n",
    "***\n",
    "Using equation 14 for mean volumetric spatially correlated random error\n",
    "\n",
    "&emsp; $\\overline{\\sigma_{v,sc}} = \\frac{\\sigma_{sc}}{\\sqrt{n}} \\sqrt{\\frac{\\pi{a}^2_{i}}{{5}{L}^2}}$\n",
    "\n",
    "\n",
    "and equation 16 for total volumetric spatially correlated random error\n",
    "\n",
    "&emsp; $\\sigma_{v,sc} = {0.79}{a}_{i}\\sqrt{n} {L} \\sigma_{sc}$\n",
    "\n",
    "where:  \n",
    "&emsp; ${L} = $ DoD cell size  \n",
    "&emsp; ${n} = $ number of cells in analysis area of DoD  \n",
    "&emsp; $\\sigma_{sc} = $ Square root of the sill value in the semivariogram of vertical residuals in stable areas of the adjusted (final) DoD  \n",
    "&emsp; ${a}_{i} = $ Range of the semivariogram model"
   ]
  },
  {
   "cell_type": "code",
   "execution_count": 36,
   "id": "ready-nomination",
   "metadata": {},
   "outputs": [
    {
     "name": "stdout",
     "output_type": "stream",
     "text": [
      "L (cell size) =                                    0.25\n",
      "n (number of cells) =                              682640\n",
      "sigma_sc (St.Dev. of residuals at 95% C.I.) =     0.16569710631148632\n",
      "\n",
      "Mean Volumetric Spatially Correlated Random Error =                   9.357635840980476e-05\n",
      "Total Volumetric Spatially Correlated Random Error =                  63.66416245931655\n"
     ]
    }
   ],
   "source": [
    "#Spatially correlated random error\n",
    "L = 0.25\n",
    "n = 682640\n",
    "sill = 0.0071469\n",
    "a = 2.3546\n",
    "confidence_level = 95 #95 or 68\n",
    "\n",
    "sigma_sc = np.sqrt(sill)\n",
    "\n",
    "if confidence_level == 95:\n",
    "    sigma_sc = sigma_sc * 1.96\n",
    "    \n",
    "mean_sigma_v_sc = (sigma_sc / np.sqrt(n)) * np.sqrt((np.pi * np.square(a)) / 5 * np.square(L))\n",
    "\n",
    "total_sigma_v_sc = 0.79 * a * np.sqrt(n) * L * sigma_sc\n",
    "\n",
    "print(f'L (cell size) =                                    {L}\\n'\n",
    "      f'n (number of cells) =                              {n}\\n'\n",
    "      f'sigma_sc (St.Dev. of residuals at {confidence_level}% C.I.) =     {sigma_sc}\\n\\n'\n",
    "      f'Mean Volumetric Spatially Correlated Random Error =                   {mean_sigma_v_sc}\\n'\n",
    "      f'Total Volumetric Spatially Correlated Random Error =                  {total_sigma_v_sc}'\n",
    "     )"
   ]
  },
  {
   "cell_type": "code",
   "execution_count": null,
   "id": "scientific-frontier",
   "metadata": {},
   "outputs": [],
   "source": []
  }
 ],
 "metadata": {
  "kernelspec": {
   "display_name": "Python 3",
   "language": "python",
   "name": "python3"
  },
  "language_info": {
   "codemirror_mode": {
    "name": "ipython",
    "version": 3
   },
   "file_extension": ".py",
   "mimetype": "text/x-python",
   "name": "python",
   "nbconvert_exporter": "python",
   "pygments_lexer": "ipython3",
   "version": "3.6.10"
  }
 },
 "nbformat": 4,
 "nbformat_minor": 5
}
