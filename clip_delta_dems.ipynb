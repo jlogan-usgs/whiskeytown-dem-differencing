{
 "cells": [
  {
   "cell_type": "code",
   "execution_count": 1,
   "metadata": {},
   "outputs": [],
   "source": [
    "import pandas as pd\n",
    "import geopandas as gpd\n",
    "import gdal\n",
    "\n",
    "from pathlib import Path\n",
    "\n",
    "gdal.UseExceptions()"
   ]
  },
  {
   "cell_type": "code",
   "execution_count": 21,
   "metadata": {},
   "outputs": [],
   "source": [
    "#input DEMs:\n",
    "#dem2018 = '/vsicurl/https://prod-is-usgs-sb-prod-publish.s3.amazonaws.com/5e7d2fbde4b01d5092751dfd/Whiskeytown_2018-12-02_DSM_25cm.tif'\n",
    "#dem2019 = Path(r\"D:\\Whiskeytown_digitize_temp\\2019-11-12\\final_cog\\Whiskeytown_2019-11-12_DSM_25cm.tif\")\n",
    "#dem2020 = Path(r\"D:\\Whiskeytown_digitize_temp\\2020-11-10\\final_cog\\Whiskeytown_2020-11-10_DSM_25cm.tif\")\n",
    "\n",
    "dem_dict = {'dem2018': '/vsicurl/https://prod-is-usgs-sb-prod-publish.s3.amazonaws.com/5e7d2fbde4b01d5092751dfd/Whiskeytown_2018-12-02_DSM_25cm.tif',\n",
    "            'dem2019': Path(r\"D:\\Whiskeytown_digitize_temp\\2019-11-12\\final_cog\\Whiskeytown_2019-11-12_DSM_25cm.tif\"),\n",
    "            'dem2020': Path(r\"D:\\Whiskeytown_digitize_temp\\2020-11-10\\final_cog\\Whiskeytown_2020-11-10_DSM_25cm.tif\")\n",
    "            }"
   ]
  },
  {
   "cell_type": "code",
   "execution_count": 22,
   "metadata": {},
   "outputs": [],
   "source": [
    "#Regions of Interest (broad, for each delta)\n",
    "brandy_dict = {'name': 'brandy', 'dir': Path(r\"D:\\Whiskeytown_digitize_temp\\dem_diff\\brandy_creek\"), 'roi': [535920,4496940,536540,4496190]}\n",
    "boulder_dict = {'name': 'boulder', 'dir': Path(r\"D:\\Whiskeytown_digitize_temp\\dem_diff\\boulder_creek\"), 'roi': [534010,4499400,534850,4498790]}\n",
    "whiskey_dict = {'name': 'whiskey', 'dir': Path(r\"D:\\Whiskeytown_digitize_temp\\dem_diff\\whiskey_creek\"), 'roi': [537340,4500530,537880,4499950]}\n",
    "\n",
    "data = [brandy_dict, boulder_dict, whiskey_dict]\n",
    "\n",
    "# Creates DataFrame. \n",
    "df = pd.DataFrame(data)                            "
   ]
  },
  {
   "cell_type": "code",
   "execution_count": 23,
   "metadata": {},
   "outputs": [
    {
     "name": "stdout",
     "output_type": "stream",
     "text": [
      "Processing dem2018, dem /vsicurl/https://prod-is-usgs-sb-prod-publish.s3.amazonaws.com/5e7d2fbde4b01d5092751dfd/Whiskeytown_2018-12-02_DSM_25cm.tif...\n",
      "D:\\Whiskeytown_digitize_temp\\dem_diff\\brandy_creek\\brandy_dem2018.tif\n",
      "D:\\Whiskeytown_digitize_temp\\dem_diff\\boulder_creek\\boulder_dem2018.tif\n",
      "D:\\Whiskeytown_digitize_temp\\dem_diff\\whiskey_creek\\whiskey_dem2018.tif\n",
      "Processing dem2019, dem D:\\Whiskeytown_digitize_temp\\2019-11-12\\final_cog\\Whiskeytown_2019-11-12_DSM_25cm.tif...\n",
      "D:\\Whiskeytown_digitize_temp\\dem_diff\\brandy_creek\\brandy_dem2019.tif\n",
      "D:\\Whiskeytown_digitize_temp\\dem_diff\\boulder_creek\\boulder_dem2019.tif\n",
      "D:\\Whiskeytown_digitize_temp\\dem_diff\\whiskey_creek\\whiskey_dem2019.tif\n",
      "Processing dem2020, dem D:\\Whiskeytown_digitize_temp\\2020-11-10\\final_cog\\Whiskeytown_2020-11-10_DSM_25cm.tif...\n",
      "D:\\Whiskeytown_digitize_temp\\dem_diff\\brandy_creek\\brandy_dem2020.tif\n",
      "D:\\Whiskeytown_digitize_temp\\dem_diff\\boulder_creek\\boulder_dem2020.tif\n",
      "D:\\Whiskeytown_digitize_temp\\dem_diff\\whiskey_creek\\whiskey_dem2020.tif\n"
     ]
    }
   ],
   "source": [
    "#clip grids\n",
    "#https://gis.stackexchange.com/questions/203664/clipping-tiff-raster-image-using-bounding-box-with-gdal-in-python\n",
    "for k, v in dem_dict.items():\n",
    "    print(f'Processing {k}, dem {v}...')\n",
    "    src_ds = gdal.Open(str(v))\n",
    "    \n",
    "    #clip for each roi\n",
    "    for index, row in df.iterrows():\n",
    "        print(str(Path.joinpath(row['dir'],(row['name'] + '_' + k + '.tif'))))\n",
    "        translate_options = gdal.TranslateOptions(format = 'GTiff', projWin = row['roi'], stats=True,\n",
    "                                          creationOptions = ['COMPRESS=LZW'])\n",
    "#         ds = gdal.Translate(str(Path.joinpath(row['dir'],(row['name'] + '_' + k + '.tif'))), src_ds, format='GTiff', projWin = row['roi'], stats=True)\n",
    "        ds = gdal.Translate(str(Path.joinpath(row['dir'],(row['name'] + '_' + k + '.tif'))), src_ds, options=translate_options)\n",
    "        ds = None\n",
    "        \n",
    "    "
   ]
  },
  {
   "cell_type": "code",
   "execution_count": null,
   "metadata": {},
   "outputs": [],
   "source": []
  }
 ],
 "metadata": {
  "kernelspec": {
   "display_name": "Python 3",
   "language": "python",
   "name": "python3"
  },
  "language_info": {
   "codemirror_mode": {
    "name": "ipython",
    "version": 3
   },
   "file_extension": ".py",
   "mimetype": "text/x-python",
   "name": "python",
   "nbconvert_exporter": "python",
   "pygments_lexer": "ipython3",
   "version": "3.7.9"
  }
 },
 "nbformat": 4,
 "nbformat_minor": 4
}
